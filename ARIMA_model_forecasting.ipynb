{
  "nbformat": 4,
  "nbformat_minor": 0,
  "metadata": {
    "colab": {
      "name": "ARIMA model forecasting",
      "provenance": [],
      "authorship_tag": "ABX9TyO1f1x7D45jWI+9L/IhPocp",
      "include_colab_link": true
    },
    "kernelspec": {
      "name": "python3",
      "display_name": "Python 3"
    },
    "language_info": {
      "name": "python"
    }
  },
  "cells": [
    {
      "cell_type": "markdown",
      "metadata": {
        "id": "view-in-github",
        "colab_type": "text"
      },
      "source": [
        "<a href=\"https://colab.research.google.com/github/VaishnaviSawant19/covid-19dashbaord/blob/main/ARIMA_model_forecasting.ipynb\" target=\"_parent\"><img src=\"https://colab.research.google.com/assets/colab-badge.svg\" alt=\"Open In Colab\"/></a>"
      ]
    },
    {
      "cell_type": "code",
      "metadata": {
        "colab": {
          "base_uri": "https://localhost:8080/"
        },
        "id": "dDioywrSfkSI",
        "outputId": "afad8dc0-b41b-48b3-f4d5-4bc644fc6ffb"
      },
      "source": [
        "pip install pmdarima"
      ],
      "execution_count": 56,
      "outputs": [
        {
          "output_type": "stream",
          "text": [
            "Requirement already satisfied: pmdarima in /usr/local/lib/python3.7/dist-packages (1.8.2)\n",
            "Requirement already satisfied: pandas>=0.19 in /usr/local/lib/python3.7/dist-packages (from pmdarima) (1.1.5)\n",
            "Requirement already satisfied: setuptools!=50.0.0,>=38.6.0 in /usr/local/lib/python3.7/dist-packages (from pmdarima) (56.1.0)\n",
            "Requirement already satisfied: statsmodels!=0.12.0,>=0.11 in /usr/local/lib/python3.7/dist-packages (from pmdarima) (0.12.2)\n",
            "Requirement already satisfied: scikit-learn>=0.22 in /usr/local/lib/python3.7/dist-packages (from pmdarima) (0.22.2.post1)\n",
            "Requirement already satisfied: numpy~=1.19.0 in /usr/local/lib/python3.7/dist-packages (from pmdarima) (1.19.5)\n",
            "Requirement already satisfied: scipy>=1.3.2 in /usr/local/lib/python3.7/dist-packages (from pmdarima) (1.4.1)\n",
            "Requirement already satisfied: Cython!=0.29.18,>=0.29 in /usr/local/lib/python3.7/dist-packages (from pmdarima) (0.29.23)\n",
            "Requirement already satisfied: urllib3 in /usr/local/lib/python3.7/dist-packages (from pmdarima) (1.24.3)\n",
            "Requirement already satisfied: joblib>=0.11 in /usr/local/lib/python3.7/dist-packages (from pmdarima) (1.0.1)\n",
            "Requirement already satisfied: python-dateutil>=2.7.3 in /usr/local/lib/python3.7/dist-packages (from pandas>=0.19->pmdarima) (2.8.1)\n",
            "Requirement already satisfied: pytz>=2017.2 in /usr/local/lib/python3.7/dist-packages (from pandas>=0.19->pmdarima) (2018.9)\n",
            "Requirement already satisfied: patsy>=0.5 in /usr/local/lib/python3.7/dist-packages (from statsmodels!=0.12.0,>=0.11->pmdarima) (0.5.1)\n",
            "Requirement already satisfied: six>=1.5 in /usr/local/lib/python3.7/dist-packages (from python-dateutil>=2.7.3->pandas>=0.19->pmdarima) (1.15.0)\n"
          ],
          "name": "stdout"
        }
      ]
    },
    {
      "cell_type": "code",
      "metadata": {
        "id": "N9pkUNfNgMCi"
      },
      "source": [
        "import pandas as pd\n",
        "import numpy as np\n",
        "import matplotlib.pyplot as plt\n",
        "%matplotlib inline"
      ],
      "execution_count": 57,
      "outputs": []
    },
    {
      "cell_type": "code",
      "metadata": {
        "colab": {
          "base_uri": "https://localhost:8080/",
          "height": 242
        },
        "id": "DHLj9Ln-gcek",
        "outputId": "cd3ba7a5-02a9-46e0-fd72-c13b345e5d2e"
      },
      "source": [
        "df=pd.read_csv(\"/content/sample_data/ARIMA Forecasting/case_time_series (2).csv\",index_col='Date',parse_dates = True)\n",
        "df=df.dropna()\n",
        "print('Shape of data',df.shape)\n",
        "df.head()"
      ],
      "execution_count": 58,
      "outputs": [
        {
          "output_type": "stream",
          "text": [
            "Shape of data (473, 7)\n"
          ],
          "name": "stdout"
        },
        {
          "output_type": "execute_result",
          "data": {
            "text/html": [
              "<div>\n",
              "<style scoped>\n",
              "    .dataframe tbody tr th:only-of-type {\n",
              "        vertical-align: middle;\n",
              "    }\n",
              "\n",
              "    .dataframe tbody tr th {\n",
              "        vertical-align: top;\n",
              "    }\n",
              "\n",
              "    .dataframe thead th {\n",
              "        text-align: right;\n",
              "    }\n",
              "</style>\n",
              "<table border=\"1\" class=\"dataframe\">\n",
              "  <thead>\n",
              "    <tr style=\"text-align: right;\">\n",
              "      <th></th>\n",
              "      <th>Date_YMD</th>\n",
              "      <th>Daily Confirmed</th>\n",
              "      <th>Total Confirmed</th>\n",
              "      <th>Daily Recovered</th>\n",
              "      <th>Total Recovered</th>\n",
              "      <th>Daily Deceased</th>\n",
              "      <th>Total Deceased</th>\n",
              "    </tr>\n",
              "    <tr>\n",
              "      <th>Date</th>\n",
              "      <th></th>\n",
              "      <th></th>\n",
              "      <th></th>\n",
              "      <th></th>\n",
              "      <th></th>\n",
              "      <th></th>\n",
              "      <th></th>\n",
              "    </tr>\n",
              "  </thead>\n",
              "  <tbody>\n",
              "    <tr>\n",
              "      <th>2020-01-30</th>\n",
              "      <td>2020-01-30</td>\n",
              "      <td>1</td>\n",
              "      <td>1</td>\n",
              "      <td>0</td>\n",
              "      <td>0</td>\n",
              "      <td>0</td>\n",
              "      <td>0</td>\n",
              "    </tr>\n",
              "    <tr>\n",
              "      <th>2020-01-31</th>\n",
              "      <td>2020-01-31</td>\n",
              "      <td>0</td>\n",
              "      <td>1</td>\n",
              "      <td>0</td>\n",
              "      <td>0</td>\n",
              "      <td>0</td>\n",
              "      <td>0</td>\n",
              "    </tr>\n",
              "    <tr>\n",
              "      <th>2020-02-01</th>\n",
              "      <td>2020-02-01</td>\n",
              "      <td>0</td>\n",
              "      <td>1</td>\n",
              "      <td>0</td>\n",
              "      <td>0</td>\n",
              "      <td>0</td>\n",
              "      <td>0</td>\n",
              "    </tr>\n",
              "    <tr>\n",
              "      <th>2020-02-02</th>\n",
              "      <td>2020-02-02</td>\n",
              "      <td>1</td>\n",
              "      <td>2</td>\n",
              "      <td>0</td>\n",
              "      <td>0</td>\n",
              "      <td>0</td>\n",
              "      <td>0</td>\n",
              "    </tr>\n",
              "    <tr>\n",
              "      <th>2020-02-03</th>\n",
              "      <td>2020-02-03</td>\n",
              "      <td>1</td>\n",
              "      <td>3</td>\n",
              "      <td>0</td>\n",
              "      <td>0</td>\n",
              "      <td>0</td>\n",
              "      <td>0</td>\n",
              "    </tr>\n",
              "  </tbody>\n",
              "</table>\n",
              "</div>"
            ],
            "text/plain": [
              "              Date_YMD  Daily Confirmed  ...  Daily Deceased  Total Deceased\n",
              "Date                                     ...                                \n",
              "2020-01-30  2020-01-30                1  ...               0               0\n",
              "2020-01-31  2020-01-31                0  ...               0               0\n",
              "2020-02-01  2020-02-01                0  ...               0               0\n",
              "2020-02-02  2020-02-02                1  ...               0               0\n",
              "2020-02-03  2020-02-03                1  ...               0               0\n",
              "\n",
              "[5 rows x 7 columns]"
            ]
          },
          "metadata": {
            "tags": []
          },
          "execution_count": 58
        }
      ]
    },
    {
      "cell_type": "code",
      "metadata": {
        "colab": {
          "base_uri": "https://localhost:8080/",
          "height": 373
        },
        "id": "V2UrbwLLkNyr",
        "outputId": "bba6d59b-cf40-4c96-a91f-d01270c44527"
      },
      "source": [
        "df['Total Confirmed'].plot(figsize=(12,5))"
      ],
      "execution_count": 59,
      "outputs": [
        {
          "output_type": "execute_result",
          "data": {
            "text/plain": [
              "<matplotlib.axes._subplots.AxesSubplot at 0x7f8eaf1af590>"
            ]
          },
          "metadata": {
            "tags": []
          },
          "execution_count": 59
        },
        {
          "output_type": "display_data",
          "data": {
            "image/png": "[encoded data removed]",
            "text/plain": [
              "<Figure size 864x360 with 1 Axes>"
            ]
          },
          "metadata": {
            "tags": [],
            "needs_background": "light"
          }
        }
      ]
    },
    {
      "cell_type": "code",
      "metadata": {
        "id": "qkKPLeltlIZ8"
      },
      "source": [
        "from statsmodels.tsa.stattools import adfuller\n",
        "def ad_test(dataset):\n",
        "  dftest = adfuller(dataset,autolag = 'AIC')\n",
        "  print(\"1. ADF : \", dftest[0])\n",
        "  print(\"2. P-value : \", dftest[1])\n",
        "  print(\"3. No of lags : \", dftest[2])\n",
        "  print(\"4. No of Observations Used for ADF Regression and Critical Values Calculation: \", dftest[3])\n",
        "  print(\"5. Critical Values :\")\n",
        "  for key, val in dftest[4].items():\n",
        "      print(\"\\t\",key,\" : \" ,val)\n"
      ],
      "execution_count": 60,
      "outputs": []
    },
    {
      "cell_type": "code",
      "metadata": {
        "colab": {
          "base_uri": "https://localhost:8080/"
        },
        "id": "K8ZGVvbQnbnm",
        "outputId": "6a527d2a-55f4-4a90-d955-e2ae267e1832"
      },
      "source": [
        "ad_test(df['Total Confirmed'])"
      ],
      "execution_count": 61,
      "outputs": [
        {
          "output_type": "stream",
          "text": [
            "1. ADF :  1.7872692776707708\n",
            "2. P-value :  0.9983234306619795\n",
            "3. No of lags :  15\n",
            "4. No of Observations Used for ADF Regression and Critical Values Calculation:  457\n",
            "5. Critical Values :\n",
            "\t 1%  :  -3.444740396477859\n",
            "\t 5%  :  -2.8678852001919073\n",
            "\t 10%  :  -2.570149751878151\n"
          ],
          "name": "stdout"
        }
      ]
    },
    {
      "cell_type": "code",
      "metadata": {
        "id": "BJHiI-O5onqx"
      },
      "source": [
        "from pmdarima import auto_arima\n",
        "#Ignore harmless warnings\n",
        "import warnings\n",
        "warnings.filterwarnings(\"ignore\")"
      ],
      "execution_count": 62,
      "outputs": []
    },
    {
      "cell_type": "code",
      "metadata": {
        "colab": {
          "base_uri": "https://localhost:8080/",
          "height": 842
        },
        "id": "ugH46O2MpHNC",
        "outputId": "1a1f9cc9-6220-4fa9-e087-e9cd79fbf4e1"
      },
      "source": [
        "stepwise_fit = auto_arima(df['Total Confirmed'], trace = True, suppress_warnings=True)\n",
        "stepwise_fit.summary()"
      ],
      "execution_count": 63,
      "outputs": [
        {
          "output_type": "stream",
          "text": [
            "Performing stepwise search to minimize aic\n",
            " ARIMA(2,2,2)(0,0,0)[0]             : AIC=9651.216, Time=0.32 sec\n",
            " ARIMA(0,2,0)(0,0,0)[0]             : AIC=9699.777, Time=0.02 sec\n",
            " ARIMA(1,2,0)(0,0,0)[0]             : AIC=9689.282, Time=0.02 sec\n",
            " ARIMA(0,2,1)(0,0,0)[0]             : AIC=9687.796, Time=0.04 sec\n",
            " ARIMA(1,2,2)(0,0,0)[0]             : AIC=9670.428, Time=0.36 sec\n",
            " ARIMA(2,2,1)(0,0,0)[0]             : AIC=9669.855, Time=0.29 sec\n",
            " ARIMA(3,2,2)(0,0,0)[0]             : AIC=9649.526, Time=0.39 sec\n",
            " ARIMA(3,2,1)(0,0,0)[0]             : AIC=9658.847, Time=0.49 sec\n",
            " ARIMA(4,2,2)(0,0,0)[0]             : AIC=9645.954, Time=0.65 sec\n",
            " ARIMA(4,2,1)(0,0,0)[0]             : AIC=9690.386, Time=0.15 sec\n",
            " ARIMA(5,2,2)(0,0,0)[0]             : AIC=9632.751, Time=0.84 sec\n",
            " ARIMA(5,2,1)(0,0,0)[0]             : AIC=9692.362, Time=0.39 sec\n",
            " ARIMA(5,2,3)(0,0,0)[0]             : AIC=9715.313, Time=1.82 sec\n",
            " ARIMA(4,2,3)(0,0,0)[0]             : AIC=inf, Time=1.83 sec\n",
            " ARIMA(5,2,2)(0,0,0)[0] intercept   : AIC=9639.922, Time=0.88 sec\n",
            "\n",
            "Best model:  ARIMA(5,2,2)(0,0,0)[0]          \n",
            "Total fit time: 8.503 seconds\n"
          ],
          "name": "stdout"
        },
        {
          "output_type": "execute_result",
          "data": {
            "text/html": [
              "<table class=\"simpletable\">\n",
              "<caption>SARIMAX Results</caption>\n",
              "<tr>\n",
              "  <th>Dep. Variable:</th>           <td>y</td>        <th>  No. Observations:  </th>    <td>473</td>   \n",
              "</tr>\n",
              "<tr>\n",
              "  <th>Model:</th>           <td>SARIMAX(5, 2, 2)</td> <th>  Log Likelihood     </th> <td>-4808.375</td>\n",
              "</tr>\n",
              "<tr>\n",
              "  <th>Date:</th>            <td>Mon, 17 May 2021</td> <th>  AIC                </th> <td>9632.751</td> \n",
              "</tr>\n",
              "<tr>\n",
              "  <th>Time:</th>                <td>09:56:19</td>     <th>  BIC                </th> <td>9665.990</td> \n",
              "</tr>\n",
              "<tr>\n",
              "  <th>Sample:</th>                  <td>0</td>        <th>  HQIC               </th> <td>9645.827</td> \n",
              "</tr>\n",
              "<tr>\n",
              "  <th></th>                      <td> - 473</td>      <th>                     </th>     <td> </td>    \n",
              "</tr>\n",
              "<tr>\n",
              "  <th>Covariance Type:</th>        <td>opg</td>       <th>                     </th>     <td> </td>    \n",
              "</tr>\n",
              "</table>\n",
              "<table class=\"simpletable\">\n",
              "<tr>\n",
              "     <td></td>       <th>coef</th>     <th>std err</th>      <th>z</th>      <th>P>|z|</th>  <th>[0.025</th>    <th>0.975]</th>  \n",
              "</tr>\n",
              "<tr>\n",
              "  <th>ar.L1</th>  <td>    0.0710</td> <td>    0.057</td> <td>    1.255</td> <td> 0.210</td> <td>   -0.040</td> <td>    0.182</td>\n",
              "</tr>\n",
              "<tr>\n",
              "  <th>ar.L2</th>  <td>    0.5321</td> <td>    0.060</td> <td>    8.937</td> <td> 0.000</td> <td>    0.415</td> <td>    0.649</td>\n",
              "</tr>\n",
              "<tr>\n",
              "  <th>ar.L3</th>  <td>    0.0094</td> <td>    0.044</td> <td>    0.213</td> <td> 0.831</td> <td>   -0.077</td> <td>    0.096</td>\n",
              "</tr>\n",
              "<tr>\n",
              "  <th>ar.L4</th>  <td>    0.0794</td> <td>    0.042</td> <td>    1.892</td> <td> 0.059</td> <td>   -0.003</td> <td>    0.162</td>\n",
              "</tr>\n",
              "<tr>\n",
              "  <th>ar.L5</th>  <td>    0.2092</td> <td>    0.050</td> <td>    4.172</td> <td> 0.000</td> <td>    0.111</td> <td>    0.308</td>\n",
              "</tr>\n",
              "<tr>\n",
              "  <th>ma.L1</th>  <td>    0.0787</td> <td>    0.056</td> <td>    1.401</td> <td> 0.161</td> <td>   -0.031</td> <td>    0.189</td>\n",
              "</tr>\n",
              "<tr>\n",
              "  <th>ma.L2</th>  <td>   -0.6941</td> <td>    0.059</td> <td>  -11.698</td> <td> 0.000</td> <td>   -0.810</td> <td>   -0.578</td>\n",
              "</tr>\n",
              "<tr>\n",
              "  <th>sigma2</th> <td> 4.747e+07</td> <td> 1.84e-09</td> <td> 2.58e+16</td> <td> 0.000</td> <td> 4.75e+07</td> <td> 4.75e+07</td>\n",
              "</tr>\n",
              "</table>\n",
              "<table class=\"simpletable\">\n",
              "<tr>\n",
              "  <th>Ljung-Box (L1) (Q):</th>      <td>0.16</td>  <th>  Jarque-Bera (JB):  </th> <td>4705.93</td>\n",
              "</tr>\n",
              "<tr>\n",
              "  <th>Prob(Q):</th>                 <td>0.69</td>  <th>  Prob(JB):          </th>  <td>0.00</td>  \n",
              "</tr>\n",
              "<tr>\n",
              "  <th>Heteroskedasticity (H):</th> <td>228.86</td> <th>  Skew:              </th>  <td>-1.49</td> \n",
              "</tr>\n",
              "<tr>\n",
              "  <th>Prob(H) (two-sided):</th>     <td>0.00</td>  <th>  Kurtosis:          </th>  <td>18.20</td> \n",
              "</tr>\n",
              "</table><br/><br/>Warnings:<br/>[1] Covariance matrix calculated using the outer product of gradients (complex-step).<br/>[2] Covariance matrix is singular or near-singular, with condition number 4.12e+32. Standard errors may be unstable."
            ],
            "text/plain": [
              "<class 'statsmodels.iolib.summary.Summary'>\n",
              "\"\"\"\n",
              "                               SARIMAX Results                                \n",
              "==============================================================================\n",
              "Dep. Variable:                      y   No. Observations:                  473\n",
              "Model:               SARIMAX(5, 2, 2)   Log Likelihood               -4808.375\n",
              "Date:                Mon, 17 May 2021   AIC                           9632.751\n",
              "Time:                        09:56:19   BIC                           9665.990\n",
              "Sample:                             0   HQIC                          9645.827\n",
              "                                - 473                                         \n",
              "Covariance Type:                  opg                                         \n",
              "==============================================================================\n",
              "                 coef    std err          z      P>|z|      [0.025      0.975]\n",
              "------------------------------------------------------------------------------\n",
              "ar.L1          0.0710      0.057      1.255      0.210      -0.040       0.182\n",
              "ar.L2          0.5321      0.060      8.937      0.000       0.415       0.649\n",
              "ar.L3          0.0094      0.044      0.213      0.831      -0.077       0.096\n",
              "ar.L4          0.0794      0.042      1.892      0.059      -0.003       0.162\n",
              "ar.L5          0.2092      0.050      4.172      0.000       0.111       0.308\n",
              "ma.L1          0.0787      0.056      1.401      0.161      -0.031       0.189\n",
              "ma.L2         -0.6941      0.059    -11.698      0.000      -0.810      -0.578\n",
              "sigma2      4.747e+07   1.84e-09   2.58e+16      0.000    4.75e+07    4.75e+07\n",
              "===================================================================================\n",
              "Ljung-Box (L1) (Q):                   0.16   Jarque-Bera (JB):              4705.93\n",
              "Prob(Q):                              0.69   Prob(JB):                         0.00\n",
              "Heteroskedasticity (H):             228.86   Skew:                            -1.49\n",
              "Prob(H) (two-sided):                  0.00   Kurtosis:                        18.20\n",
              "===================================================================================\n",
              "\n",
              "Warnings:\n",
              "[1] Covariance matrix calculated using the outer product of gradients (complex-step).\n",
              "[2] Covariance matrix is singular or near-singular, with condition number 4.12e+32. Standard errors may be unstable.\n",
              "\"\"\""
            ]
          },
          "metadata": {
            "tags": []
          },
          "execution_count": 63
        }
      ]
    },
    {
      "cell_type": "code",
      "metadata": {
        "id": "1ShYiYdlqS6F"
      },
      "source": [
        "from statsmodels.tsa.arima_model import ARIMA"
      ],
      "execution_count": 64,
      "outputs": []
    },
    {
      "cell_type": "code",
      "metadata": {
        "colab": {
          "base_uri": "https://localhost:8080/"
        },
        "id": "QFUahSCbqra3",
        "outputId": "a3977626-2b71-4394-a984-ea317fe7a1e1"
      },
      "source": [
        "print(df.shape)\n",
        "train = df.iloc[:-30]\n",
        "test  = df.iloc[:-30]\n",
        "print(train.shape,test.shape)"
      ],
      "execution_count": 65,
      "outputs": [
        {
          "output_type": "stream",
          "text": [
            "(473, 7)\n",
            "(443, 7) (443, 7)\n"
          ],
          "name": "stdout"
        }
      ]
    },
    {
      "cell_type": "code",
      "metadata": {
        "colab": {
          "base_uri": "https://localhost:8080/",
          "height": 535
        },
        "id": "uaJYa59WrhLY",
        "outputId": "1473793f-239b-4c87-db0a-a8c23be95659"
      },
      "source": [
        "model = ARIMA(train['Total Confirmed'],order=(5,2,2))\n",
        "model = model.fit()\n",
        "model.summary()"
      ],
      "execution_count": 66,
      "outputs": [
        {
          "output_type": "execute_result",
          "data": {
            "text/html": [
              "<table class=\"simpletable\">\n",
              "<caption>ARIMA Model Results</caption>\n",
              "<tr>\n",
              "  <th>Dep. Variable:</th> <td>D2.Total Confirmed</td> <th>  No. Observations:  </th>    <td>441</td>   \n",
              "</tr>\n",
              "<tr>\n",
              "  <th>Model:</th>           <td>ARIMA(5, 2, 2)</td>   <th>  Log Likelihood     </th> <td>-4267.868</td>\n",
              "</tr>\n",
              "<tr>\n",
              "  <th>Method:</th>              <td>css-mle</td>      <th>  S.D. of innovations</th> <td>3848.297</td> \n",
              "</tr>\n",
              "<tr>\n",
              "  <th>Date:</th>           <td>Mon, 17 May 2021</td>  <th>  AIC                </th> <td>8553.737</td> \n",
              "</tr>\n",
              "<tr>\n",
              "  <th>Time:</th>               <td>09:56:43</td>      <th>  BIC                </th> <td>8590.538</td> \n",
              "</tr>\n",
              "<tr>\n",
              "  <th>Sample:</th>            <td>02-01-2020</td>     <th>  HQIC               </th> <td>8568.253</td> \n",
              "</tr>\n",
              "<tr>\n",
              "  <th></th>                  <td>- 04-16-2021</td>    <th>                     </th>     <td> </td>    \n",
              "</tr>\n",
              "</table>\n",
              "<table class=\"simpletable\">\n",
              "<tr>\n",
              "              <td></td>                <th>coef</th>     <th>std err</th>      <th>z</th>      <th>P>|z|</th>  <th>[0.025</th>    <th>0.975]</th>  \n",
              "</tr>\n",
              "<tr>\n",
              "  <th>const</th>                    <td>  530.6175</td> <td>  254.787</td> <td>    2.083</td> <td> 0.037</td> <td>   31.244</td> <td> 1029.991</td>\n",
              "</tr>\n",
              "<tr>\n",
              "  <th>ar.L1.D2.Total Confirmed</th> <td>   -0.1605</td> <td>    0.057</td> <td>   -2.815</td> <td> 0.005</td> <td>   -0.272</td> <td>   -0.049</td>\n",
              "</tr>\n",
              "<tr>\n",
              "  <th>ar.L2.D2.Total Confirmed</th> <td>   -0.5813</td> <td>    0.052</td> <td>  -11.137</td> <td> 0.000</td> <td>   -0.684</td> <td>   -0.479</td>\n",
              "</tr>\n",
              "<tr>\n",
              "  <th>ar.L3.D2.Total Confirmed</th> <td>    0.1890</td> <td>    0.057</td> <td>    3.295</td> <td> 0.001</td> <td>    0.077</td> <td>    0.301</td>\n",
              "</tr>\n",
              "<tr>\n",
              "  <th>ar.L4.D2.Total Confirmed</th> <td>    0.1875</td> <td>    0.055</td> <td>    3.421</td> <td> 0.001</td> <td>    0.080</td> <td>    0.295</td>\n",
              "</tr>\n",
              "<tr>\n",
              "  <th>ar.L5.D2.Total Confirmed</th> <td>   -0.1962</td> <td>    0.055</td> <td>   -3.581</td> <td> 0.000</td> <td>   -0.304</td> <td>   -0.089</td>\n",
              "</tr>\n",
              "<tr>\n",
              "  <th>ma.L1.D2.Total Confirmed</th> <td>    0.2809</td> <td>    0.037</td> <td>    7.492</td> <td> 0.000</td> <td>    0.207</td> <td>    0.354</td>\n",
              "</tr>\n",
              "<tr>\n",
              "  <th>ma.L2.D2.Total Confirmed</th> <td>    0.8908</td> <td>    0.026</td> <td>   34.873</td> <td> 0.000</td> <td>    0.841</td> <td>    0.941</td>\n",
              "</tr>\n",
              "</table>\n",
              "<table class=\"simpletable\">\n",
              "<caption>Roots</caption>\n",
              "<tr>\n",
              "    <td></td>   <th>            Real</th>  <th>         Imaginary</th> <th>         Modulus</th>  <th>        Frequency</th>\n",
              "</tr>\n",
              "<tr>\n",
              "  <th>AR.1</th> <td>          -0.2213</td> <td>          -0.9857j</td> <td>           1.0102</td> <td>          -0.2852</td>\n",
              "</tr>\n",
              "<tr>\n",
              "  <th>AR.2</th> <td>          -0.2213</td> <td>          +0.9857j</td> <td>           1.0102</td> <td>           0.2852</td>\n",
              "</tr>\n",
              "<tr>\n",
              "  <th>AR.3</th> <td>          -1.5525</td> <td>          -0.0000j</td> <td>           1.5525</td> <td>          -0.5000</td>\n",
              "</tr>\n",
              "<tr>\n",
              "  <th>AR.4</th> <td>           1.4753</td> <td>          -1.0196j</td> <td>           1.7934</td> <td>          -0.0962</td>\n",
              "</tr>\n",
              "<tr>\n",
              "  <th>AR.5</th> <td>           1.4753</td> <td>          +1.0196j</td> <td>           1.7934</td> <td>           0.0962</td>\n",
              "</tr>\n",
              "<tr>\n",
              "  <th>MA.1</th> <td>          -0.1577</td> <td>          -1.0477j</td> <td>           1.0595</td> <td>          -0.2738</td>\n",
              "</tr>\n",
              "<tr>\n",
              "  <th>MA.2</th> <td>          -0.1577</td> <td>          +1.0477j</td> <td>           1.0595</td> <td>           0.2738</td>\n",
              "</tr>\n",
              "</table>"
            ],
            "text/plain": [
              "<class 'statsmodels.iolib.summary.Summary'>\n",
              "\"\"\"\n",
              "                             ARIMA Model Results                              \n",
              "==============================================================================\n",
              "Dep. Variable:     D2.Total Confirmed   No. Observations:                  441\n",
              "Model:                 ARIMA(5, 2, 2)   Log Likelihood               -4267.868\n",
              "Method:                       css-mle   S.D. of innovations           3848.297\n",
              "Date:                Mon, 17 May 2021   AIC                           8553.737\n",
              "Time:                        09:56:43   BIC                           8590.538\n",
              "Sample:                    02-01-2020   HQIC                          8568.253\n",
              "                         - 04-16-2021                                         \n",
              "============================================================================================\n",
              "                               coef    std err          z      P>|z|      [0.025      0.975]\n",
              "--------------------------------------------------------------------------------------------\n",
              "const                      530.6175    254.787      2.083      0.037      31.244    1029.991\n",
              "ar.L1.D2.Total Confirmed    -0.1605      0.057     -2.815      0.005      -0.272      -0.049\n",
              "ar.L2.D2.Total Confirmed    -0.5813      0.052    -11.137      0.000      -0.684      -0.479\n",
              "ar.L3.D2.Total Confirmed     0.1890      0.057      3.295      0.001       0.077       0.301\n",
              "ar.L4.D2.Total Confirmed     0.1875      0.055      3.421      0.001       0.080       0.295\n",
              "ar.L5.D2.Total Confirmed    -0.1962      0.055     -3.581      0.000      -0.304      -0.089\n",
              "ma.L1.D2.Total Confirmed     0.2809      0.037      7.492      0.000       0.207       0.354\n",
              "ma.L2.D2.Total Confirmed     0.8908      0.026     34.873      0.000       0.841       0.941\n",
              "                                    Roots                                    \n",
              "=============================================================================\n",
              "                  Real          Imaginary           Modulus         Frequency\n",
              "-----------------------------------------------------------------------------\n",
              "AR.1           -0.2213           -0.9857j            1.0102           -0.2852\n",
              "AR.2           -0.2213           +0.9857j            1.0102            0.2852\n",
              "AR.3           -1.5525           -0.0000j            1.5525           -0.5000\n",
              "AR.4            1.4753           -1.0196j            1.7934           -0.0962\n",
              "AR.5            1.4753           +1.0196j            1.7934            0.0962\n",
              "MA.1           -0.1577           -1.0477j            1.0595           -0.2738\n",
              "MA.2           -0.1577           +1.0477j            1.0595            0.2738\n",
              "-----------------------------------------------------------------------------\n",
              "\"\"\""
            ]
          },
          "metadata": {
            "tags": []
          },
          "execution_count": 66
        }
      ]
    },
    {
      "cell_type": "code",
      "metadata": {
        "colab": {
          "base_uri": "https://localhost:8080/"
        },
        "id": "X7YISnQUt6Z3",
        "outputId": "5d3c8516-9201-4c49-d0f3-cf33fc7615a9"
      },
      "source": [
        "start = len(train)\n",
        "end = len(train)+len(test)-1\n",
        "pred = model.predict(start,end,typ = 'levels').rename(\"Predictions\")\n",
        "print(pred)\n",
        "#pred.index = df.index[start:end+1]\n",
        "#print(pred)"
      ],
      "execution_count": 79,
      "outputs": [
        {
          "output_type": "stream",
          "text": [
            "2021-04-17    1.476798e+07\n",
            "2021-04-18    1.501778e+07\n",
            "2021-04-19    1.526445e+07\n",
            "2021-04-20    1.551244e+07\n",
            "2021-04-21    1.576248e+07\n",
            "                  ...     \n",
            "2022-06-29    1.732144e+08\n",
            "2022-06-30    1.736926e+08\n",
            "2022-07-01    1.741713e+08\n",
            "2022-07-02    1.746506e+08\n",
            "2022-07-03    1.751304e+08\n",
            "Freq: D, Name: Predictions, Length: 443, dtype: float64\n"
          ],
          "name": "stdout"
        }
      ]
    },
    {
      "cell_type": "code",
      "metadata": {
        "colab": {
          "base_uri": "https://localhost:8080/",
          "height": 319
        },
        "id": "2_XAyrgew93s",
        "outputId": "2448b507-0882-4194-e73e-d63ba7aa8018"
      },
      "source": [
        "pred.plot(legend=True)\n",
        "test['Total Confirmed'].plot(legend = True)"
      ],
      "execution_count": 80,
      "outputs": [
        {
          "output_type": "execute_result",
          "data": {
            "text/plain": [
              "<matplotlib.axes._subplots.AxesSubplot at 0x7f8eaed76490>"
            ]
          },
          "metadata": {
            "tags": []
          },
          "execution_count": 80
        },
        {
          "output_type": "display_data",
          "data": {
            "image/png": "[encoded data removed]",
            "text/plain": [
              "<Figure size 432x288 with 1 Axes>"
            ]
          },
          "metadata": {
            "tags": [],
            "needs_background": "light"
          }
        }
      ]
    },
    {
      "cell_type": "code",
      "metadata": {
        "colab": {
          "base_uri": "https://localhost:8080/"
        },
        "id": "xDirbKn50MwR",
        "outputId": "5491e1e0-9d99-4f49-a505-9f86553575d1"
      },
      "source": [
        "test['Total Confirmed'].mean()"
      ],
      "execution_count": 81,
      "outputs": [
        {
          "output_type": "execute_result",
          "data": {
            "text/plain": [
              "5161052.981941309"
            ]
          },
          "metadata": {
            "tags": []
          },
          "execution_count": 81
        }
      ]
    },
    {
      "cell_type": "code",
      "metadata": {
        "colab": {
          "base_uri": "https://localhost:8080/"
        },
        "id": "JJHcdt3A0sMt",
        "outputId": "ec31ae51-474b-4207-caf5-df7793d77720"
      },
      "source": [
        "from sklearn.metrics import mean_squared_error\n",
        "from math import sqrt\n",
        "rmse=sqrt(mean_squared_error(pred,test['Total Confirmed']))\n",
        "print(rmse)"
      ],
      "execution_count": 82,
      "outputs": [
        {
          "output_type": "stream",
          "text": [
            "91366089.70876324\n"
          ],
          "name": "stdout"
        }
      ]
    },
    {
      "cell_type": "code",
      "metadata": {
        "colab": {
          "base_uri": "https://localhost:8080/",
          "height": 225
        },
        "id": "kn_-4Ek62kGS",
        "outputId": "6f6d223b-9439-45c0-9b31-d9b27bc28c91"
      },
      "source": [
        "model2=ARIMA(df['Total Confirmed'],order=(2,2,2))\n",
        "model2=model2.fit()\n",
        "df.tail()\n"
      ],
      "execution_count": 83,
      "outputs": [
        {
          "output_type": "execute_result",
          "data": {
            "text/html": [
              "<div>\n",
              "<style scoped>\n",
              "    .dataframe tbody tr th:only-of-type {\n",
              "        vertical-align: middle;\n",
              "    }\n",
              "\n",
              "    .dataframe tbody tr th {\n",
              "        vertical-align: top;\n",
              "    }\n",
              "\n",
              "    .dataframe thead th {\n",
              "        text-align: right;\n",
              "    }\n",
              "</style>\n",
              "<table border=\"1\" class=\"dataframe\">\n",
              "  <thead>\n",
              "    <tr style=\"text-align: right;\">\n",
              "      <th></th>\n",
              "      <th>Date_YMD</th>\n",
              "      <th>Daily Confirmed</th>\n",
              "      <th>Total Confirmed</th>\n",
              "      <th>Daily Recovered</th>\n",
              "      <th>Total Recovered</th>\n",
              "      <th>Daily Deceased</th>\n",
              "      <th>Total Deceased</th>\n",
              "    </tr>\n",
              "    <tr>\n",
              "      <th>Date</th>\n",
              "      <th></th>\n",
              "      <th></th>\n",
              "      <th></th>\n",
              "      <th></th>\n",
              "      <th></th>\n",
              "      <th></th>\n",
              "      <th></th>\n",
              "    </tr>\n",
              "  </thead>\n",
              "  <tbody>\n",
              "    <tr>\n",
              "      <th>2021-05-12</th>\n",
              "      <td>2021-05-12</td>\n",
              "      <td>362632</td>\n",
              "      <td>23703007</td>\n",
              "      <td>352005</td>\n",
              "      <td>19728566</td>\n",
              "      <td>4128</td>\n",
              "      <td>257762</td>\n",
              "    </tr>\n",
              "    <tr>\n",
              "      <th>2021-05-13</th>\n",
              "      <td>2021-05-13</td>\n",
              "      <td>343005</td>\n",
              "      <td>24046012</td>\n",
              "      <td>344676</td>\n",
              "      <td>20073242</td>\n",
              "      <td>4000</td>\n",
              "      <td>261762</td>\n",
              "    </tr>\n",
              "    <tr>\n",
              "      <th>2021-05-14</th>\n",
              "      <td>2021-05-14</td>\n",
              "      <td>326256</td>\n",
              "      <td>24372268</td>\n",
              "      <td>353200</td>\n",
              "      <td>20426442</td>\n",
              "      <td>3889</td>\n",
              "      <td>265651</td>\n",
              "    </tr>\n",
              "    <tr>\n",
              "      <th>2021-05-15</th>\n",
              "      <td>2021-05-15</td>\n",
              "      <td>310757</td>\n",
              "      <td>24683025</td>\n",
              "      <td>362547</td>\n",
              "      <td>20788989</td>\n",
              "      <td>4077</td>\n",
              "      <td>269728</td>\n",
              "    </tr>\n",
              "    <tr>\n",
              "      <th>2021-05-16</th>\n",
              "      <td>2021-05-16</td>\n",
              "      <td>281837</td>\n",
              "      <td>24964862</td>\n",
              "      <td>378526</td>\n",
              "      <td>21167515</td>\n",
              "      <td>4095</td>\n",
              "      <td>273823</td>\n",
              "    </tr>\n",
              "  </tbody>\n",
              "</table>\n",
              "</div>"
            ],
            "text/plain": [
              "              Date_YMD  Daily Confirmed  ...  Daily Deceased  Total Deceased\n",
              "Date                                     ...                                \n",
              "2021-05-12  2021-05-12           362632  ...            4128          257762\n",
              "2021-05-13  2021-05-13           343005  ...            4000          261762\n",
              "2021-05-14  2021-05-14           326256  ...            3889          265651\n",
              "2021-05-15  2021-05-15           310757  ...            4077          269728\n",
              "2021-05-16  2021-05-16           281837  ...            4095          273823\n",
              "\n",
              "[5 rows x 7 columns]"
            ]
          },
          "metadata": {
            "tags": []
          },
          "execution_count": 83
        }
      ]
    },
    {
      "cell_type": "code",
      "metadata": {
        "colab": {
          "base_uri": "https://localhost:8080/"
        },
        "id": "EsXHfaqR30JL",
        "outputId": "eae6a8f9-f29a-4a27-8213-e7f28cf6a637"
      },
      "source": [
        "index_future_dates=pd.date_range(start='2021-05-16',end='2021-06-15')\n",
        "#print(index_future_dates)\n",
        "pred=model2.predict(start=len(df),end=len(df)+30,typ='levels').rename('ARIMA Predictions')\n",
        "#print(comp_pred)\n",
        "pred.index=index_future_dates\n",
        "print(pred)"
      ],
      "execution_count": 84,
      "outputs": [
        {
          "output_type": "stream",
          "text": [
            "2021-05-16    2.523783e+07\n",
            "2021-05-17    2.550872e+07\n",
            "2021-05-18    2.577279e+07\n",
            "2021-05-19    2.603413e+07\n",
            "2021-05-20    2.629002e+07\n",
            "2021-05-21    2.654297e+07\n",
            "2021-05-22    2.679144e+07\n",
            "2021-05-23    2.703698e+07\n",
            "2021-05-24    2.727875e+07\n",
            "2021-05-25    2.751772e+07\n",
            "2021-05-26    2.775347e+07\n",
            "2021-05-27    2.798662e+07\n",
            "2021-05-28    2.821698e+07\n",
            "2021-05-29    2.844497e+07\n",
            "2021-05-30    2.867052e+07\n",
            "2021-05-31    2.889394e+07\n",
            "2021-06-01    2.911522e+07\n",
            "2021-06-02    2.933458e+07\n",
            "2021-06-03    2.955207e+07\n",
            "2021-06-04    2.976786e+07\n",
            "2021-06-05    2.998200e+07\n",
            "2021-06-06    3.019463e+07\n",
            "2021-06-07    3.040582e+07\n",
            "2021-06-08    3.061568e+07\n",
            "2021-06-09    3.082428e+07\n",
            "2021-06-10    3.103172e+07\n",
            "2021-06-11    3.123805e+07\n",
            "2021-06-12    3.144337e+07\n",
            "2021-06-13    3.164774e+07\n",
            "2021-06-14    3.185122e+07\n",
            "2021-06-15    3.205389e+07\n",
            "Freq: D, Name: ARIMA Predictions, dtype: float64\n"
          ],
          "name": "stdout"
        }
      ]
    },
    {
      "cell_type": "code",
      "metadata": {
        "colab": {
          "base_uri": "https://localhost:8080/",
          "height": 383
        },
        "id": "DQnGtcc07pDz",
        "outputId": "ff1a4067-1663-44c8-df62-8ded1d38eab6"
      },
      "source": [
        "pred.plot(figsize=(12,5),legend=True)"
      ],
      "execution_count": 85,
      "outputs": [
        {
          "output_type": "execute_result",
          "data": {
            "text/plain": [
              "<matplotlib.axes._subplots.AxesSubplot at 0x7f8eaec64f50>"
            ]
          },
          "metadata": {
            "tags": []
          },
          "execution_count": 85
        },
        {
          "output_type": "display_data",
          "data": {
            "image/png": "[encoded data removed]",
            "text/plain": [
              "<Figure size 864x360 with 1 Axes>"
            ]
          },
          "metadata": {
            "tags": [],
            "needs_background": "light"
          }
        }
      ]
    }
  ]
}